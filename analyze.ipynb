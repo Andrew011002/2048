{
 "cells": [
  {
   "cell_type": "code",
   "execution_count": 1,
   "metadata": {},
   "outputs": [],
   "source": [
    "import numpy as np\n",
    "import pandas as pd\n",
    "from env import Env2048, run_simulations\n",
    "from sklearn.linear_model import LinearRegression\n",
    "from sklearn.model_selection import train_test_split\n",
    "from sklearn.metrics import mean_squared_error"
   ]
  },
  {
   "cell_type": "code",
   "execution_count": 2,
   "metadata": {},
   "outputs": [],
   "source": [
    "aggregated_simulation_results = run_simulations(num_processes=10, episodes_per_process=1000) # 10 * 1000 = 10000 runs"
   ]
  },
  {
   "cell_type": "code",
   "execution_count": 3,
   "metadata": {},
   "outputs": [
    {
     "name": "stdout",
     "output_type": "stream",
     "text": [
      "Sample: [128.0, 1352.0, 114, -24.114]\n"
     ]
    }
   ],
   "source": [
    "print(f\"Sample: {aggregated_simulation_results[0]}\") # max_tile, score, moves, net_reward"
   ]
  },
  {
   "cell_type": "code",
   "execution_count": 4,
   "metadata": {},
   "outputs": [],
   "source": [
    "columns = [\"max_tile\", \"score\", \"moves\", \"net_reward\"]\n",
    "simulation_df = pd.DataFrame(aggregated_simulation_results, columns=columns)\n",
    "mean_df = simulation_df.groupby(\"max_tile\")[[\"score\", \"moves\"]].mean().reset_index()\n",
    "std_df = simulation_df.groupby(\"max_tile\")[[\"score\", \"moves\"]].std().reset_index()\n",
    "tile_counts = simulation_df.groupby(\"max_tile\").size().reset_index(name=\"frequency\")"
   ]
  },
  {
   "cell_type": "code",
   "execution_count": 5,
   "metadata": {},
   "outputs": [],
   "source": [
    "data_df = pd.concat([mean_df[[\"max_tile\", \"score\", \"moves\"]], std_df[[\"score\", \"moves\"]]], axis=1)\n",
    "data_df.dropna(inplace=True)\n",
    "data_columns = [\"max_tile\", \"mean_score\", \"std_score\", \"mean_moves\", \"std_moves\"]\n",
    "data_df.columns = data_columns"
   ]
  },
  {
   "cell_type": "code",
   "execution_count": 6,
   "metadata": {},
   "outputs": [
    {
     "data": {
      "text/html": [
       "<div>\n",
       "<style scoped>\n",
       "    .dataframe tbody tr th:only-of-type {\n",
       "        vertical-align: middle;\n",
       "    }\n",
       "\n",
       "    .dataframe tbody tr th {\n",
       "        vertical-align: top;\n",
       "    }\n",
       "\n",
       "    .dataframe thead th {\n",
       "        text-align: right;\n",
       "    }\n",
       "</style>\n",
       "<table border=\"1\" class=\"dataframe\">\n",
       "  <thead>\n",
       "    <tr style=\"text-align: right;\">\n",
       "      <th></th>\n",
       "      <th>max_tile</th>\n",
       "      <th>frequency</th>\n",
       "    </tr>\n",
       "  </thead>\n",
       "  <tbody>\n",
       "    <tr>\n",
       "      <th>0</th>\n",
       "      <td>16.0</td>\n",
       "      <td>56</td>\n",
       "    </tr>\n",
       "    <tr>\n",
       "      <th>1</th>\n",
       "      <td>32.0</td>\n",
       "      <td>1110</td>\n",
       "    </tr>\n",
       "    <tr>\n",
       "      <th>2</th>\n",
       "      <td>64.0</td>\n",
       "      <td>4216</td>\n",
       "    </tr>\n",
       "    <tr>\n",
       "      <th>3</th>\n",
       "      <td>128.0</td>\n",
       "      <td>4084</td>\n",
       "    </tr>\n",
       "    <tr>\n",
       "      <th>4</th>\n",
       "      <td>256.0</td>\n",
       "      <td>534</td>\n",
       "    </tr>\n",
       "  </tbody>\n",
       "</table>\n",
       "</div>"
      ],
      "text/plain": [
       "   max_tile  frequency\n",
       "0      16.0         56\n",
       "1      32.0       1110\n",
       "2      64.0       4216\n",
       "3     128.0       4084\n",
       "4     256.0        534"
      ]
     },
     "execution_count": 6,
     "metadata": {},
     "output_type": "execute_result"
    }
   ],
   "source": [
    "tile_counts"
   ]
  },
  {
   "cell_type": "code",
   "execution_count": 7,
   "metadata": {},
   "outputs": [
    {
     "data": {
      "text/html": [
       "<div>\n",
       "<style scoped>\n",
       "    .dataframe tbody tr th:only-of-type {\n",
       "        vertical-align: middle;\n",
       "    }\n",
       "\n",
       "    .dataframe tbody tr th {\n",
       "        vertical-align: top;\n",
       "    }\n",
       "\n",
       "    .dataframe thead th {\n",
       "        text-align: right;\n",
       "    }\n",
       "</style>\n",
       "<table border=\"1\" class=\"dataframe\">\n",
       "  <thead>\n",
       "    <tr style=\"text-align: right;\">\n",
       "      <th></th>\n",
       "      <th>max_tile</th>\n",
       "      <th>mean_score</th>\n",
       "      <th>std_score</th>\n",
       "      <th>mean_moves</th>\n",
       "      <th>std_moves</th>\n",
       "    </tr>\n",
       "  </thead>\n",
       "  <tbody>\n",
       "    <tr>\n",
       "      <th>0</th>\n",
       "      <td>16.0</td>\n",
       "      <td>144.214286</td>\n",
       "      <td>32.535714</td>\n",
       "      <td>32.979726</td>\n",
       "      <td>3.775347</td>\n",
       "    </tr>\n",
       "    <tr>\n",
       "      <th>1</th>\n",
       "      <td>32.0</td>\n",
       "      <td>317.682883</td>\n",
       "      <td>47.829730</td>\n",
       "      <td>74.660255</td>\n",
       "      <td>7.072140</td>\n",
       "    </tr>\n",
       "    <tr>\n",
       "      <th>2</th>\n",
       "      <td>64.0</td>\n",
       "      <td>623.800759</td>\n",
       "      <td>69.323055</td>\n",
       "      <td>131.229334</td>\n",
       "      <td>10.434567</td>\n",
       "    </tr>\n",
       "    <tr>\n",
       "      <th>3</th>\n",
       "      <td>128.0</td>\n",
       "      <td>1169.454456</td>\n",
       "      <td>100.307297</td>\n",
       "      <td>202.442737</td>\n",
       "      <td>14.394867</td>\n",
       "    </tr>\n",
       "    <tr>\n",
       "      <th>4</th>\n",
       "      <td>256.0</td>\n",
       "      <td>2182.921348</td>\n",
       "      <td>147.314607</td>\n",
       "      <td>261.230293</td>\n",
       "      <td>17.063349</td>\n",
       "    </tr>\n",
       "  </tbody>\n",
       "</table>\n",
       "</div>"
      ],
      "text/plain": [
       "   max_tile   mean_score   std_score  mean_moves  std_moves\n",
       "0      16.0   144.214286   32.535714   32.979726   3.775347\n",
       "1      32.0   317.682883   47.829730   74.660255   7.072140\n",
       "2      64.0   623.800759   69.323055  131.229334  10.434567\n",
       "3     128.0  1169.454456  100.307297  202.442737  14.394867\n",
       "4     256.0  2182.921348  147.314607  261.230293  17.063349"
      ]
     },
     "execution_count": 7,
     "metadata": {},
     "output_type": "execute_result"
    }
   ],
   "source": [
    "data_df"
   ]
  },
  {
   "cell_type": "code",
   "execution_count": 8,
   "metadata": {},
   "outputs": [],
   "source": [
    "linear_model = LinearRegression()\n",
    "inputs, labels = data_df[[\"max_tile\"]].to_numpy(), data_df[[\"mean_score\", \"std_score\", \"mean_moves\", \"std_moves\"]].to_numpy()\n",
    "_ = linear_model.fit(inputs, labels)"
   ]
  },
  {
   "cell_type": "code",
   "execution_count": 9,
   "metadata": {},
   "outputs": [
    {
     "name": "stdout",
     "output_type": "stream",
     "text": [
      "Prediction: [[ 4362.48344151   270.47483915   513.4089101     31.50027842]\n",
      " [ 8672.39810202   507.38988862   975.92108541    57.48753357]\n",
      " [17292.22742304   981.21998756  1900.94543604   109.46204388]]\n"
     ]
    }
   ],
   "source": [
    "new_max_tiles = [[512], [1024], [2048]]\n",
    "predictions = linear_model.predict(new_max_tiles)\n",
    "print(f\"Prediction: {predictions}\")"
   ]
  },
  {
   "cell_type": "code",
   "execution_count": 10,
   "metadata": {},
   "outputs": [],
   "source": [
    "for max_tile, prediction in zip(new_max_tiles, predictions):\n",
    "    data_df.loc[len(data_df)] = max_tile + prediction.tolist()"
   ]
  },
  {
   "cell_type": "code",
   "execution_count": 11,
   "metadata": {},
   "outputs": [],
   "source": [
    "def generate_fake_simulation_data(tile, mean_score, std_score, mean_moves, std_moves, size=1000):\n",
    "    d = dict()\n",
    "    score = np.random.normal(mean_score, std_score, size).reshape(-1, 1)\n",
    "    moves = np.random.normal(mean_moves, std_moves, size).reshape(-1, 1)\n",
    "    points = np.random.choice([points for points in range(0, 129, 2)], size=size).reshape(-1, 1)\n",
    "    data = np.concatenate((score, moves, points), axis=1)\n",
    "    d[tile] = data\n",
    "    return d"
   ]
  },
  {
   "cell_type": "code",
   "execution_count": 12,
   "metadata": {},
   "outputs": [],
   "source": [
    "samples = []\n",
    "for row in data_df.values.tolist():\n",
    "    samples.append(generate_fake_simulation_data(*row))"
   ]
  },
  {
   "cell_type": "code",
   "execution_count": null,
   "metadata": {},
   "outputs": [],
   "source": [
    "samples[0]"
   ]
  },
  {
   "cell_type": "code",
   "execution_count": null,
   "metadata": {},
   "outputs": [],
   "source": [
    "rewards = []\n",
    "env = Env2048()\n",
    "for fake_data in fake_simulation_data:\n",
    "    score, moves, points = fake_data\n",
    "    reward = env.calculate_reward(score, moves, points, True)\n",
    "    rewards.append(reward)"
   ]
  },
  {
   "cell_type": "code",
   "execution_count": null,
   "metadata": {},
   "outputs": [],
   "source": [
    "print(np.mean(reward))"
   ]
  }
 ],
 "metadata": {
  "kernelspec": {
   "display_name": "venv",
   "language": "python",
   "name": "python3"
  },
  "language_info": {
   "codemirror_mode": {
    "name": "ipython",
    "version": 3
   },
   "file_extension": ".py",
   "mimetype": "text/x-python",
   "name": "python",
   "nbconvert_exporter": "python",
   "pygments_lexer": "ipython3",
   "version": "3.11.4"
  },
  "orig_nbformat": 4
 },
 "nbformat": 4,
 "nbformat_minor": 2
}
